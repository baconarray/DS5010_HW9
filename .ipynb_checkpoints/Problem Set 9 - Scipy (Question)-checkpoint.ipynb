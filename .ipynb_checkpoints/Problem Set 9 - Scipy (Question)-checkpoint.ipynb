{
 "cells": [
  {
   "cell_type": "markdown",
   "id": "e28d9fa0",
   "metadata": {},
   "source": [
    "## Notice:\n",
    "Please limit your work to only those functions that have been discussed in lectures or that are explicitly mentioned in the question. Any violations of this will result in a deduction of points."
   ]
  },
  {
   "cell_type": "markdown",
   "id": "3743f0c3",
   "metadata": {},
   "source": [
    "<div class=\"alert alert-block alert-info\">\n",
    "    <b><p style=\"font-size: XX-large\">Problem 1: Integrals</p></b> </div>"
   ]
  },
  {
   "cell_type": "markdown",
   "id": "3554d22d",
   "metadata": {},
   "source": [
    "(20 pts -5 each)"
   ]
  },
  {
   "cell_type": "markdown",
   "id": "33f45e21",
   "metadata": {},
   "source": [
    "Use `scipy.integrate` to evaluate the integral of the following functions:\n",
    "1. function 1: $$\\int_{- \\infty}^{\\infty} e^{-x^2} dx$$ \n",
    "\n",
    "2. function 2: $$ \\int_{0}^{\\infty} e^{-2 x} dx $$\n",
    "\n",
    "3. function 3: $$\\int_{0}^{1/2} \\int_{0}^{\\sqrt{1-8x^3}} x^3y \\; dy \\; dx$$ \n",
    "\n",
    "4. function 3: $$\\int_{0}^{1} \\int_{0}^{{1}} xy \\; dy \\; dx$$ "
   ]
  },
  {
   "cell_type": "markdown",
   "id": "7dff4ab7",
   "metadata": {},
   "source": [
    "---------------------"
   ]
  },
  {
   "cell_type": "markdown",
   "id": "1699293b",
   "metadata": {},
   "source": [
    "<div class=\"alert alert-block alert-info\">\n",
    "    <b><p style=\"font-size: XX-large\">Problem 2: Interpolation</p></b> </div>"
   ]
  },
  {
   "cell_type": "markdown",
   "id": "630b44f1",
   "metadata": {},
   "source": [
    "(20 pts)"
   ]
  },
  {
   "cell_type": "markdown",
   "id": "f6b390a2",
   "metadata": {},
   "source": [
    "Given the datasets x =[0,1,2,3,4] and y = [1,3,2,5,7], perform a **quaratic** interpolation. \n",
    "Evaluate the interpolant at 10 equally spaced points between 0 and 4 and plot both the original points and the interpolated line.\n",
    "\n",
    "Rubric:\n",
    "- (10 pts) correct interpolation\n",
    "- (8 pts) Plot the original points and the interpolated points\n",
    "- (2 pts) Set legend and title\n",
    "\n",
    "Output:\n",
    "<img src=\"problem2sample.png\" width=\"300\">"
   ]
  },
  {
   "cell_type": "markdown",
   "id": "241facc1",
   "metadata": {},
   "source": [
    "--------------------------"
   ]
  },
  {
   "cell_type": "markdown",
   "id": "dc00977f",
   "metadata": {},
   "source": [
    "<div class=\"alert alert-block alert-info\">\n",
    "    <b><p style=\"font-size: XX-large\">Problem 3: Imageio Read and Basic Manipulation</p></b> </div>"
   ]
  },
  {
   "cell_type": "markdown",
   "id": "f55d5d1a",
   "metadata": {},
   "source": [
    "(20 pts)"
   ]
  },
  {
   "cell_type": "markdown",
   "id": "6822897a",
   "metadata": {},
   "source": [
    "1. Use these syntax `conda install imageio` or `pip install imageio` to firstly install `imageio`. Then import imageio by using `import imageio.v3 as iio`.\n",
    "\n",
    "2. (5 pts) Imageio provides a number of standard images. Use imageio to read the image with a name `page.png` and show it using matplotlib \n",
    "\n",
    "(Hint: use `plt.imshow()` to show the image instead of the numpy array)\n",
    "\n",
    "(note: [how to read a image from imageio](https://imageio.readthedocs.io/en/stable/examples.html#read-an-image-of-a-cat)). Use the following two line of code to read the image."
   ]
  },
  {
   "cell_type": "code",
   "execution_count": 3,
   "id": "37dc82ab",
   "metadata": {},
   "outputs": [
    {
     "data": {
      "text/plain": [
       "array([[136, 137, 139, ..., 239, 239, 239],\n",
       "       [140, 139, 138, ..., 239, 239, 239],\n",
       "       [142, 140, 137, ..., 239, 239, 239],\n",
       "       ...,\n",
       "       [ 47,  54,  50, ..., 225, 225, 225],\n",
       "       [ 64,  68,  65, ..., 225, 225, 225],\n",
       "       [ 63,  60,  57, ..., 225, 225, 225]], dtype=uint8)"
      ]
     },
     "execution_count": 3,
     "metadata": {},
     "output_type": "execute_result"
    }
   ],
   "source": [
    "import imageio.v3 as iio\n",
    "page = iio.imread('imageio:page.png')\n",
    "page"
   ]
  },
  {
   "cell_type": "markdown",
   "id": "52098a1f",
   "metadata": {},
   "source": [
    "3. (5 pts) Print the dimensions of the image, which is stored as a NumPy array. Specifically, print the type, shape, and dtype of the array to understand the image.\n",
    "\n",
    "4.  (10 pts) Flip the image up side down (note: the color of the image should remain the same) and plot both original image and the flipped image in one figure using `plt.subplot()`. Add proper title for each subplot."
   ]
  },
  {
   "cell_type": "markdown",
   "id": "438d8769",
   "metadata": {},
   "source": [
    "----------------------------"
   ]
  },
  {
   "cell_type": "markdown",
   "id": "ecb6ed13",
   "metadata": {},
   "source": [
    "<div class=\"alert alert-block alert-info\">\n",
    "    <b><p style=\"font-size: XX-large\">Problem 4: Ndimage</p></b> </div>"
   ]
  },
  {
   "cell_type": "markdown",
   "id": "953ba596",
   "metadata": {},
   "source": [
    "(20 pts)"
   ]
  },
  {
   "cell_type": "markdown",
   "id": "71d86b45",
   "metadata": {},
   "source": [
    "Use `imageio` to read the image called 'grayscale_page.png'. "
   ]
  },
  {
   "cell_type": "code",
   "execution_count": 43,
   "id": "786c81b6",
   "metadata": {},
   "outputs": [],
   "source": [
    "import imageio.v3 as iio\n",
    "image = iio.imread('grayscale_page.png')"
   ]
  },
  {
   "cell_type": "markdown",
   "id": "b2aa475c",
   "metadata": {},
   "source": [
    "1.(10 pts) Rotate the original image, \"page.png\" by 60 degrees with `reshape` set to `False`. Plot both original image and the rotated image in one figure using `plt.subplot()`. Add proper title for each subplot.\n",
    "\n",
    "2.(10 pts) Use the `sobel` filter to detect edges in 'grayscale_page.png'. Apply the filter along horizontal axis. Plot both original image and the filtered image in one figure using `plt.subplot()`. Add proper title for each subplot."
   ]
  },
  {
   "cell_type": "markdown",
   "id": "299664e8",
   "metadata": {},
   "source": [
    "----------------------"
   ]
  },
  {
   "cell_type": "markdown",
   "id": "512b61cd",
   "metadata": {},
   "source": [
    "<div class=\"alert alert-block alert-info\">\n",
    "    <b><p style=\"font-size: XX-large\">Problem 5: Optimization </p></b> </div>"
   ]
  },
  {
   "cell_type": "markdown",
   "id": "5d8f4f3b",
   "metadata": {},
   "source": [
    "(20 pts)"
   ]
  },
  {
   "cell_type": "markdown",
   "id": "10cea622",
   "metadata": {},
   "source": [
    "Find the minimum of the two-variable function: \n",
    "$$f(x,y) = |{x+3y-6}|+|2x-y|$$\n",
    "over the region where \n",
    "$$0 \\le x+y-5,$$\n",
    "$$y \\ge 0$$\n",
    "$$x \\ge 0$$\n",
    "\n",
    "Set the initial guess, x0, to be [1,1]. Print the solution array and the minimum of the function."
   ]
  },
  {
   "cell_type": "markdown",
   "id": "d3707d4c",
   "metadata": {},
   "source": [
    "Hint: (Copied from lecture notes)\n",
    "\n",
    "- **`minimize(fun, x0)`** finds the minimum of a scalar function of two or more variable using the `brent` method as default.\n",
    "\n",
    "- Parameters:\n",
    "    - 2D function takes in vector $x = (x[0], x[1],\\ldots)$, where $x[0]$ is first coordinate, $x[1]$ is the second coordinate, etc.\n",
    "    - x0 : initial guess, an array of real elements of size (n,), n is the number of independent variables.\n",
    "    - bounds = bound of variables, sequence of (min, max) pairs for each element in x\n",
    "    - constraints must be specified as $g_i(x) \\ge 0$\n",
    "    \n",
    "- We show the optimization result by a **res** variable.\n",
    "    - It is a **OptimizeResult object** with some attributes:\n",
    "    - x: the solution array\n",
    "    - fun: gives the minimum of the function"
   ]
  },
  {
   "cell_type": "markdown",
   "id": "7d7763d0",
   "metadata": {},
   "source": [
    "# Done"
   ]
  }
 ],
 "metadata": {
  "kernelspec": {
   "display_name": "Python 3 (ipykernel)",
   "language": "python",
   "name": "python3"
  },
  "language_info": {
   "codemirror_mode": {
    "name": "ipython",
    "version": 3
   },
   "file_extension": ".py",
   "mimetype": "text/x-python",
   "name": "python",
   "nbconvert_exporter": "python",
   "pygments_lexer": "ipython3",
   "version": "3.11.5"
  }
 },
 "nbformat": 4,
 "nbformat_minor": 5
}
